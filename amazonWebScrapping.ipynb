{
  "nbformat": 4,
  "nbformat_minor": 0,
  "metadata": {
    "colab": {
      "provenance": [],
      "authorship_tag": "ABX9TyMV84ukhzuSsCPjF7Hk5OL5",
      "include_colab_link": true
    },
    "kernelspec": {
      "name": "python3",
      "display_name": "Python 3"
    },
    "language_info": {
      "name": "python"
    }
  },
  "cells": [
    {
      "cell_type": "markdown",
      "metadata": {
        "id": "view-in-github",
        "colab_type": "text"
      },
      "source": [
        "<a href=\"https://colab.research.google.com/github/srujan-b/AmazonWebScrappingUsingPython/blob/main/amazonWebScrapping.ipynb\" target=\"_parent\"><img src=\"https://colab.research.google.com/assets/colab-badge.svg\" alt=\"Open In Colab\"/></a>"
      ]
    },
    {
      "cell_type": "code",
      "execution_count": 2,
      "metadata": {
        "id": "QgFdsUmWpNSu"
      },
      "outputs": [],
      "source": [
        "# import libraries\n",
        "\n",
        "from bs4 import BeautifulSoup\n",
        "import requests\n",
        "import smtplib\n",
        "import time\n",
        "import datetime"
      ]
    },
    {
      "cell_type": "code",
      "source": [
        "URL = 'https://www.amazon.in/Whirlpool-Refrigerator-205-WDE-CLS/dp/B0BSRVL2VV/ref=sr_1_1?_encoding=UTF8&refinements=p_85%3A10440599031&rps=1&s=kitchen&sr=1-1'\n",
        "headers = {\"User-Agen\":\"Mozilla/5.0 (Windows NT 10.0; Win64; x64) AppleWebKit/537.36 (KHTML, like Gecko) Chrome/123.0.0.0 Safari/537.36 Brave/96.0.4664.110\",\"Accept\": \"text/html,application/xhtml+xml,application/xml;q=0.9,image/avif,image/webp,image/apng,*/*;q=0.8\",\n",
        "    \"Accept-Encoding\": \"gzip, deflate, br, zstd\", \"Accept-Language\": \"en-US,en\",\"DNT\":\"1\",\"Connection\":\"close\", \"Upgrade-Insecure-Requests\":\"1\"}\n",
        "page = requests.get(URL,headers = headers)"
      ],
      "metadata": {
        "id": "THJOw0-faYWY"
      },
      "execution_count": null,
      "outputs": []
    },
    {
      "cell_type": "code",
      "source": [
        "# Connect to website\n",
        "\n",
        "\n",
        "\n",
        "\n",
        "\n",
        "soup1 = BeautifulSoup(page.content, \"html.parser\")\n",
        "\n",
        "soup2 = BeautifulSoup(soup1.prettify(),\"html.parser\")\n",
        "\n",
        "title = soup2.find(id ='productTitle').get_text()\n",
        "price = soup2.find(\"span\", {\"class\": \"a-price-whole\"}).get_text(strip=True)\n",
        "ratings = soup2.find(\"span\", {\"class\": \"a-icon-alt\"}).get_text(strip=True)\n",
        "numberOfratings = soup2.find(id = \"acrCustomerReviewText\").get_text(strip=True)\n",
        "\n",
        "\n",
        "print(title,\"\\t\",price , \"\\t\",ratings,\"\\t\",numberOfratings )\n",
        "\n",
        "\n"
      ],
      "metadata": {
        "colab": {
          "base_uri": "https://localhost:8080/"
        },
        "id": "AZeWsaqt5G0D",
        "outputId": "61097e2d-ca6f-4861-dc44-92dec7692e2d"
      },
      "execution_count": 18,
      "outputs": [
        {
          "output_type": "stream",
          "name": "stdout",
          "text": [
            "\n",
            "            Whirlpool 184 L 2 Star Direct-Cool Single Door Refrigerator (205 WDE CLS 2S SAPPHIRE BLUE-Z, Blue,2023 Model)\n",
            "            \t 12,590. \t 4.1 out of 5 stars \t 3,052\n"
          ]
        }
      ]
    },
    {
      "cell_type": "code",
      "source": [
        "ratings = ratings.split()[0]\n"
      ],
      "metadata": {
        "colab": {
          "base_uri": "https://localhost:8080/"
        },
        "id": "g_kk32hlWaex",
        "outputId": "ae627861-d0d1-4478-db60-c6cef9cc8b51"
      },
      "execution_count": 21,
      "outputs": [
        {
          "output_type": "stream",
          "name": "stdout",
          "text": [
            "4.1\n"
          ]
        }
      ]
    },
    {
      "cell_type": "code",
      "source": [],
      "metadata": {
        "id": "uxlUS2rypgLO"
      },
      "execution_count": null,
      "outputs": []
    }
  ]
}