{
  "nbformat": 4,
  "nbformat_minor": 0,
  "metadata": {
    "colab": {
      "provenance": [],
      "authorship_tag": "ABX9TyP8jed6n1VtMYA2pp6nfZ3X",
      "include_colab_link": true
    },
    "kernelspec": {
      "name": "python3",
      "display_name": "Python 3"
    },
    "language_info": {
      "name": "python"
    }
  },
  "cells": [
    {
      "cell_type": "markdown",
      "metadata": {
        "id": "view-in-github",
        "colab_type": "text"
      },
      "source": [
        "<a href=\"https://colab.research.google.com/github/srujan-b/AmazonWebScrappingUsingPython/blob/main/webscrapping.ipynb\" target=\"_parent\"><img src=\"https://colab.research.google.com/assets/colab-badge.svg\" alt=\"Open In Colab\"/></a>"
      ]
    },
    {
      "cell_type": "code",
      "execution_count": 41,
      "metadata": {
        "id": "h915qQDhwrsp"
      },
      "outputs": [],
      "source": [
        "from bs4 import BeautifulSoup\n",
        "import requests\n",
        "import smtplib\n",
        "import time\n",
        "from datetime import datetime\n",
        "import re"
      ]
    },
    {
      "cell_type": "code",
      "source": [
        "# Url defination\n",
        "url = 'https://www.espncricinfo.com/series/icc-men-s-t20-world-cup-2022-23-1298134/match-schedule-fixtures-and-results'\n",
        "\n",
        "# Header for web scrapping\n",
        "headers = {\"User-Agen\":\"Mozilla/5.0 (Windows NT 10.0; Win64; x64) AppleWebKit/537.36 (KHTML, like Gecko) Chrome/123.0.0.0 Safari/537.36 Brave/96.0.4664.110\",\"Accept\": \"text/html,application/xhtml+xml,application/xml;q=0.9,image/avif,image/webp,image/apng,*/*;q=0.8\",\n",
        "    \"Accept-Encoding\": \"gzip, deflate, br, zstd\", \"Accept-Language\": \"en-US,en\",\"DNT\":\"1\",\"Connection\":\"close\", \"Upgrade-Insecure-Requests\":\"1\"}\n",
        "\n",
        "\n",
        "\n",
        "page = requests.get(url,headers = headers)"
      ],
      "metadata": {
        "id": "GtzpoXwOxWlh"
      },
      "execution_count": 3,
      "outputs": []
    },
    {
      "cell_type": "code",
      "source": [
        "resultPage = BeautifulSoup(page.content, \"html.parser\")"
      ],
      "metadata": {
        "colab": {
          "base_uri": "https://localhost:8080/"
        },
        "id": "JmShG6F8xe-q",
        "outputId": "97cd118c-5df0-4f47-9232-caa2bf87d71d"
      },
      "execution_count": 8,
      "outputs": [
        {
          "output_type": "stream",
          "name": "stdout",
          "text": [
            "[<div class=\"ds-text-compact-xs ds-font-bold ds-w-24\">Sun, 16 Oct '22</div>, <div class=\"ds-text-compact-xs ds-font-bold ds-w-24\"></div>, <div class=\"ds-text-compact-xs ds-font-bold ds-w-24\">Mon, 17 Oct '22</div>, <div class=\"ds-text-compact-xs ds-font-bold ds-w-24\"></div>, <div class=\"ds-text-compact-xs ds-font-bold ds-w-24\">Tue, 18 Oct '22</div>, <div class=\"ds-text-compact-xs ds-font-bold ds-w-24\"></div>, <div class=\"ds-text-compact-xs ds-font-bold ds-w-24\">Wed, 19 Oct '22</div>, <div class=\"ds-text-compact-xs ds-font-bold ds-w-24\"></div>, <div class=\"ds-text-compact-xs ds-font-bold ds-w-24\">Thu, 20 Oct '22</div>, <div class=\"ds-text-compact-xs ds-font-bold ds-w-24\"></div>, <div class=\"ds-text-compact-xs ds-font-bold ds-w-24\">Fri, 21 Oct '22</div>, <div class=\"ds-text-compact-xs ds-font-bold ds-w-24\"></div>, <div class=\"ds-text-compact-xs ds-font-bold ds-w-24\">Sat, 22 Oct '22</div>, <div class=\"ds-text-compact-xs ds-font-bold ds-w-24\"></div>, <div class=\"ds-text-compact-xs ds-font-bold ds-w-24\">Sun, 23 Oct '22</div>, <div class=\"ds-text-compact-xs ds-font-bold ds-w-24\"></div>, <div class=\"ds-text-compact-xs ds-font-bold ds-w-24\">Mon, 24 Oct '22</div>, <div class=\"ds-text-compact-xs ds-font-bold ds-w-24\"></div>, <div class=\"ds-text-compact-xs ds-font-bold ds-w-24\">Tue, 25 Oct '22</div>, <div class=\"ds-text-compact-xs ds-font-bold ds-w-24\">Wed, 26 Oct '22</div>, <div class=\"ds-text-compact-xs ds-font-bold ds-w-24\"></div>, <div class=\"ds-text-compact-xs ds-font-bold ds-w-24\">Thu, 27 Oct '22</div>, <div class=\"ds-text-compact-xs ds-font-bold ds-w-24\"></div>, <div class=\"ds-text-compact-xs ds-font-bold ds-w-24\"></div>, <div class=\"ds-text-compact-xs ds-font-bold ds-w-24\">Fri, 28 Oct '22</div>, <div class=\"ds-text-compact-xs ds-font-bold ds-w-24\"></div>, <div class=\"ds-text-compact-xs ds-font-bold ds-w-24\">Sat, 29 Oct '22</div>, <div class=\"ds-text-compact-xs ds-font-bold ds-w-24\">Sun, 30 Oct '22</div>, <div class=\"ds-text-compact-xs ds-font-bold ds-w-24\"></div>, <div class=\"ds-text-compact-xs ds-font-bold ds-w-24\"></div>, <div class=\"ds-text-compact-xs ds-font-bold ds-w-24\">Mon, 31 Oct '22</div>, <div class=\"ds-text-compact-xs ds-font-bold ds-w-24\">Tue, 01 Nov '22</div>, <div class=\"ds-text-compact-xs ds-font-bold ds-w-24\"></div>, <div class=\"ds-text-compact-xs ds-font-bold ds-w-24\">Wed, 02 Nov '22</div>, <div class=\"ds-text-compact-xs ds-font-bold ds-w-24\"></div>, <div class=\"ds-text-compact-xs ds-font-bold ds-w-24\">Thu, 03 Nov '22</div>, <div class=\"ds-text-compact-xs ds-font-bold ds-w-24\">Fri, 04 Nov '22</div>, <div class=\"ds-text-compact-xs ds-font-bold ds-w-24\"></div>, <div class=\"ds-text-compact-xs ds-font-bold ds-w-24\">Sat, 05 Nov '22</div>, <div class=\"ds-text-compact-xs ds-font-bold ds-w-24\">Sun, 06 Nov '22</div>, <div class=\"ds-text-compact-xs ds-font-bold ds-w-24\"></div>, <div class=\"ds-text-compact-xs ds-font-bold ds-w-24\"></div>, <div class=\"ds-text-compact-xs ds-font-bold ds-w-24\">Wed, 09 Nov '22</div>, <div class=\"ds-text-compact-xs ds-font-bold ds-w-24\">Thu, 10 Nov '22</div>, <div class=\"ds-text-compact-xs ds-font-bold ds-w-24\">Sun, 13 Nov '22</div>]\n"
          ]
        }
      ]
    },
    {
      "cell_type": "code",
      "source": [
        "# Extracting match Dates\n",
        "\n",
        "dates = resultPage.find_all(\"div\", {\"class\": \"ds-text-compact-xs ds-font-bold ds-w-24\"})\n",
        "\n",
        "date = []\n",
        "for i in dates:\n",
        "\n",
        "  if i.get_text():\n",
        "    date_string = i.get_text(strip=True).split(',')[1]\n",
        "    date_object = datetime.strptime(date_string, \" %d %b '%y\")\n",
        "    formatted_date = date_object.strftime(\"%Y-%m-%d\")\n",
        "    date.append(formatted_date)\n",
        "  else:\n",
        "    date.append(formatted_date)"
      ],
      "metadata": {
        "id": "4WDW4qkmxu1S",
        "outputId": "1879c0e9-7503-49f2-bbbe-b298a06fd5c2",
        "colab": {
          "base_uri": "https://localhost:8080/"
        }
      },
      "execution_count": 22,
      "outputs": [
        {
          "output_type": "stream",
          "name": "stdout",
          "text": [
            "45\n"
          ]
        }
      ]
    },
    {
      "cell_type": "code",
      "source": [
        "# Extracting match numbers\n",
        "\n",
        "matchNumbers = resultPage.find_all(\"span\", {\"class\": \"ds-text-tight-s ds-font-medium ds-text-typo\"})\n",
        "\n",
        "matchNum = []\n",
        "for i in matchNumbers:\n",
        "  matchDetails = i.get_text(strip =True).split(\",\")[0].split()\n",
        "  if matchDetails[1] == 'Match':\n",
        "    pattern = r'\\d+'\n",
        "    numbers = int(re.search(pattern, matchDetails[0]).group())\n",
        "    matchNum.append(numbers)\n",
        "  else:\n",
        "    matchNum.append(\" \".join(matchDetails[0:-1]))"
      ],
      "metadata": {
        "id": "M2pI4GjF3S4S"
      },
      "execution_count": 55,
      "outputs": []
    },
    {
      "cell_type": "code",
      "source": [
        "# Extracting City\n",
        "\n",
        "place = resultPage.find_all(\"div\", {\"class\": \"ds-text-tight-s ds-font-regular ds-truncate ds-text-typo-mid3\"})\n",
        "\n",
        "city = []\n",
        "\n",
        "for i in place:\n",
        "  if i.contents[3]:\n",
        "    city.append(i.contents[3])\n"
      ],
      "metadata": {
        "id": "TgJJTOs4ADRT"
      },
      "execution_count": 87,
      "outputs": []
    },
    {
      "cell_type": "code",
      "source": [
        "# extracting teams\n",
        "team1Find = resultPage.find_all(\"p\", {\"class\": \"ds-text-tight-m ds-font-bold ds-capitalize ds-truncate\"})\n",
        "\n",
        "teamName = {'England':'ENG', 'India':'IND', 'Scotland':'SCOT', 'Ireland':'IRE', 'Sri Lanka':'SL', 'Zimbabwe':'ZIM', 'Afghanistan':'AFG', 'Australia':'AUS', 'Pakistan':'PAK', 'United Arab Emirates':'UAE', 'Bangladesh':'BAN', 'South Africa':'SA', 'Netherlands':'NED', 'New Zealand':'NZ', 'Namibia':'NAM', 'West Indies':'WI'}\n",
        "team1 = []\n",
        "team2 = []\n",
        "team1SF = []\n",
        "team2SF = []\n",
        "a = 1\n",
        "for i in team1Find:\n",
        "  if a % 2 != 1:\n",
        "    team = i.get_text(strip=True)\n",
        "    team1.append(team)\n",
        "    team1SF.append(teamName[team])\n",
        "    a +=1\n",
        "  else:\n",
        "    team = i.get_text(strip=True)\n",
        "    team2.append(team)\n",
        "    team2SF.append(teamName[team])\n",
        "    a+=1\n"
      ],
      "metadata": {
        "id": "6rDBYeMWGXHO",
        "outputId": "08d86bcd-7d6a-46ba-d609-f770bb745383",
        "colab": {
          "base_uri": "https://localhost:8080/"
        }
      },
      "execution_count": 103,
      "outputs": [
        {
          "output_type": "stream",
          "name": "stdout",
          "text": [
            "['SL', 'NED', 'WI', 'IRE', 'NED', 'UAE', 'IRE', 'ZIM', 'NED', 'NAM', 'IRE', 'ZIM', 'AUS', 'ENG', 'SL', 'IND', 'NED', 'SA', 'AUS', 'ENG', 'NZ', 'BAN', 'NED', 'PAK', 'IRE', 'ENG', 'SL', 'ZIM', 'PAK', 'SA', 'IRE', 'SL', 'NZ', 'NED', 'BAN', 'SA', 'IRE', 'AFG', 'ENG', 'SA', 'PAK', 'ZIM', 'PAK', 'ENG', 'ENG'] ['NAM', 'UAE', 'SCOT', 'ZIM', 'NAM', 'SL', 'SCOT', 'WI', 'SL', 'UAE', 'WI', 'SCOT', 'NZ', 'AFG', 'IRE', 'PAK', 'BAN', 'ZIM', 'SL', 'IRE', 'AFG', 'SA', 'IND', 'ZIM', 'AFG', 'AUS', 'NZ', 'BAN', 'NED', 'IND', 'AUS', 'AFG', 'ENG', 'ZIM', 'IND', 'PAK', 'NZ', 'AUS', 'SL', 'NED', 'BAN', 'IND', 'NZ', 'IND', 'PAK']\n"
          ]
        }
      ]
    },
    {
      "cell_type": "code",
      "source": [
        "scores_class_divs = resultPage.find_all(\"div\", {\"class\": \"ds-flex ds-flex-col ds-mt-2 ds-mb-2\"})\n",
        "\n",
        "strong_elements = []\n",
        "\n",
        "for div in scores_class_divs:\n",
        "\n",
        "    strong_elements.extend(div.find_all(\"strong\", class_=\"\"))\n",
        "\n",
        "print(strong_elements)"
      ],
      "metadata": {
        "id": "7_9N-Z8fOaaV",
        "outputId": "edb26839-2276-4016-86c0-c79390a8fefe",
        "colab": {
          "base_uri": "https://localhost:8080/"
        }
      },
      "execution_count": 136,
      "outputs": [
        {
          "output_type": "stream",
          "name": "stdout",
          "text": [
            "[<strong class=\"\">163/7</strong>, <strong class=\"\">108</strong>, <strong class=\"\">111/8</strong>, <strong class=\"\">112/7</strong>, <strong class=\"\">160/5</strong>, <strong class=\"\">118</strong>, <strong class=\"\">174/7</strong>, <strong class=\"\">143/9</strong>, <strong class=\"\">121/6</strong>, <strong class=\"\">122/5</strong>, <strong class=\"\">152/8</strong>, <strong class=\"\">73</strong>, <strong class=\"\">176/5</strong>, <strong class=\"\">180/4</strong>, <strong class=\"\">153/7</strong>, <strong class=\"\">122</strong>, <strong class=\"\">162/6</strong>, <strong class=\"\">146/9</strong>, <strong class=\"\">148/3</strong>, <strong class=\"\">141/8</strong>, <strong class=\"\">146/5</strong>, <strong class=\"\">150/1</strong>, <strong class=\"\">132/6</strong>, <strong class=\"\">133/5</strong>, <strong class=\"\">200/3</strong>, <strong class=\"\">111</strong>, <strong class=\"\">112</strong>, <strong class=\"\">113/5</strong>, <strong class=\"\">128/8</strong>, <strong class=\"\">133/1</strong>, <strong class=\"\">159/8</strong>, <strong class=\"\">160/6</strong>, <strong class=\"\">144/8</strong>, <strong class=\"\">135</strong>, <strong class=\"\">79/5</strong>, <strong class=\"\">51/0</strong>, <strong class=\"\">157/6</strong>, <strong class=\"\">158/3</strong>, <strong class=\"\">157</strong>, <strong class=\"\">105/5</strong>, <strong class=\"\">205/5</strong>, <strong class=\"\">101</strong>, <strong class=\"\">179/2</strong>, <strong class=\"\">123/9</strong>, <strong class=\"\">130/8</strong>, <strong class=\"\">129/8</strong>, <strong class=\"\">167/7</strong>, <strong class=\"\">102</strong>, <strong class=\"\">150/7</strong>, <strong class=\"\">147/8</strong>, <strong class=\"\">91/9</strong>, <strong class=\"\">95/4</strong>, <strong class=\"\">133/9</strong>, <strong class=\"\">137/5</strong>, <strong class=\"\">179/5</strong>, <strong class=\"\">137</strong>, <strong class=\"\">144/8</strong>, <strong class=\"\">148/4</strong>, <strong class=\"\">179/6</strong>, <strong class=\"\">159/6</strong>, <strong class=\"\">117</strong>, <strong class=\"\">120/5</strong>, <strong class=\"\">184/6</strong>, <strong class=\"\">145/6</strong>, <strong class=\"\">185/9</strong>, <strong class=\"\">108/9</strong>, <strong class=\"\">185/6</strong>, <strong class=\"\">150/9</strong>, <strong class=\"\">168/8</strong>, <strong class=\"\">164/7</strong>, <strong class=\"\">141/8</strong>, <strong class=\"\">144/6</strong>, <strong class=\"\">158/4</strong>, <strong class=\"\">145/8</strong>, <strong class=\"\">127/8</strong>, <strong class=\"\">128/5</strong>, <strong class=\"\">186/5</strong>, <strong class=\"\">115</strong>, <strong class=\"\">152/4</strong>, <strong class=\"\">153/3</strong>, <strong class=\"\">168/6</strong>, <strong class=\"\">170/0</strong>, <strong class=\"\">137/8</strong>, <strong class=\"\">138/5</strong>]\n"
          ]
        }
      ]
    },
    {
      "cell_type": "code",
      "source": [
        "for i in zip(date,matchNum,city,team1,team1SF,team1Score,team2,team2SF):\n",
        "\n",
        "  print(i)"
      ],
      "metadata": {
        "id": "Ls8qdYLQJu9y",
        "outputId": "35f9556d-0fc7-48cd-891c-b13e6e333e2b",
        "colab": {
          "base_uri": "https://localhost:8080/"
        }
      },
      "execution_count": 123,
      "outputs": [
        {
          "output_type": "stream",
          "name": "stdout",
          "text": [
            "('2022-10-16', 1, 'Geelong', 'Sri Lanka', 'SL', '163/7', 'Namibia', 'NAM')\n",
            "('2022-10-16', 2, 'Geelong', 'Netherlands', 'NED', '112/7', 'United Arab Emirates', 'UAE')\n",
            "('2022-10-17', 3, 'Hobart', 'West Indies', 'WI', '160/5', 'Scotland', 'SCOT')\n",
            "('2022-10-17', 4, 'Hobart', 'Ireland', 'IRE', '174/7', 'Zimbabwe', 'ZIM')\n",
            "('2022-10-18', 5, 'Geelong', 'Netherlands', 'NED', '122/5', 'Namibia', 'NAM')\n",
            "('2022-10-18', 6, 'Geelong', 'United Arab Emirates', 'UAE', '152/8', 'Sri Lanka', 'SL')\n",
            "('2022-10-19', 7, 'Hobart', 'Ireland', 'IRE', '180/4', 'Scotland', 'SCOT')\n",
            "('2022-10-19', 8, 'Hobart', 'Zimbabwe', 'ZIM', '153/7', 'West Indies', 'WI')\n",
            "('2022-10-20', 9, 'Geelong', 'Netherlands', 'NED', '162/6', 'Sri Lanka', 'SL')\n",
            "('2022-10-20', 10, 'Geelong', 'Namibia', 'NAM', '148/3', 'United Arab Emirates', 'UAE')\n",
            "('2022-10-21', 11, 'Hobart', 'Ireland', 'IRE', '150/1', 'West Indies', 'WI')\n",
            "('2022-10-21', 12, 'Hobart', 'Zimbabwe', 'ZIM', '133/5', 'Scotland', 'SCOT')\n",
            "('2022-10-22', 13, 'Sydney', 'Australia', 'AUS', '200/3', 'New Zealand', 'NZ')\n",
            "('2022-10-22', 14, 'Perth', 'England', 'ENG', '113/5', 'Afghanistan', 'AFG')\n",
            "('2022-10-23', 15, 'Hobart', 'Sri Lanka', 'SL', '133/1', 'Ireland', 'IRE')\n",
            "('2022-10-23', 16, 'Melbourne', 'India', 'IND', '160/6', 'Pakistan', 'PAK')\n",
            "('2022-10-24', 17, 'Hobart', 'Netherlands', 'NED', '144/8', 'Bangladesh', 'BAN')\n",
            "('2022-10-24', 18, 'Hobart', 'South Africa', 'SA', '79/5', 'Zimbabwe', 'ZIM')\n",
            "('2022-10-25', 19, 'Perth', 'Australia', 'AUS', '51/0', 'Sri Lanka', 'SL')\n",
            "('2022-10-26', 20, 'Melbourne', 'England', 'ENG', '158/3', 'Ireland', 'IRE')\n",
            "('2022-10-26', 21, 'Melbourne', 'New Zealand', 'NZ', '157', 'Afghanistan', 'AFG')\n",
            "('2022-10-27', 22, 'Sydney', 'Bangladesh', 'BAN', ' ', 'South Africa', 'SA')\n",
            "('2022-10-27', 23, 'Sydney', 'Netherlands', 'NED', ' ', 'India', 'IND')\n",
            "('2022-10-27', 24, 'Perth', 'Pakistan', 'PAK', '205/5', 'Zimbabwe', 'ZIM')\n",
            "('2022-10-28', 25, 'Melbourne', 'Ireland', 'IRE', '179/2', 'Afghanistan', 'AFG')\n",
            "('2022-10-28', 26, 'Melbourne', 'England', 'ENG', '130/8', 'Australia', 'AUS')\n",
            "('2022-10-29', 27, 'Sydney', 'Sri Lanka', 'SL', ' ', 'New Zealand', 'NZ')\n",
            "('2022-10-30', 28, 'Brisbane', 'Zimbabwe', 'ZIM', ' ', 'Bangladesh', 'BAN')\n",
            "('2022-10-30', 29, 'Perth', 'Pakistan', 'PAK', ' ', 'Netherlands', 'NED')\n",
            "('2022-10-30', 30, 'Perth', 'South Africa', 'SA', ' ', 'India', 'IND')\n",
            "('2022-10-31', 31, 'Brisbane', 'Ireland', 'IRE', '167/7', 'Australia', 'AUS')\n",
            "('2022-11-01', 32, 'Brisbane', 'Sri Lanka', 'SL', '150/7', 'Afghanistan', 'AFG')\n",
            "('2022-11-01', 33, 'Brisbane', 'New Zealand', 'NZ', '95/4', 'England', 'ENG')\n",
            "('2022-11-02', 34, 'Adelaide', 'Netherlands', 'NED', '137/5', 'Zimbabwe', 'ZIM')\n",
            "('2022-11-02', 35, 'Adelaide', 'Bangladesh', 'BAN', '179/5', 'India', 'IND')\n",
            "('2022-11-03', 36, 'Sydney', 'South Africa', 'SA', '148/4', 'Pakistan', 'PAK')\n",
            "('2022-11-04', 37, 'Adelaide', 'Ireland', 'IRE', '179/6', 'New Zealand', 'NZ')\n",
            "('2022-11-04', 38, 'Adelaide', 'Afghanistan', 'AFG', '120/5', 'Australia', 'AUS')\n",
            "('2022-11-05', 39, 'Sydney', 'England', 'ENG', '184/6', 'Sri Lanka', 'SL')\n",
            "('2022-11-06', 40, 'Adelaide', 'South Africa', 'SA', '185/9', 'Netherlands', 'NED')\n",
            "('2022-11-06', 41, 'Adelaide', 'Pakistan', 'PAK', '185/6', 'Bangladesh', 'BAN')\n",
            "('2022-11-06', 42, 'Melbourne', 'Zimbabwe', 'ZIM', '168/8', 'India', 'IND')\n",
            "('2022-11-09', '1st Semi-Final', 'Sydney', 'Pakistan', 'PAK', '144/6', 'New Zealand', 'NZ')\n",
            "('2022-11-10', '2nd Semi-Final', 'Adelaide', 'England', 'ENG', '158/4', 'India', 'IND')\n",
            "('2022-11-13', 'Final', 'Melbourne', 'England', 'ENG', '128/5', 'Pakistan', 'PAK')\n"
          ]
        }
      ]
    },
    {
      "cell_type": "code",
      "source": [],
      "metadata": {
        "id": "-mMZSfFDSUMU"
      },
      "execution_count": null,
      "outputs": []
    }
  ]
}